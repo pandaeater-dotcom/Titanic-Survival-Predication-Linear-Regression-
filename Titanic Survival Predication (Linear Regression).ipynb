{
 "cells": [
  {
   "cell_type": "code",
   "execution_count": 3,
   "id": "1744654b",
   "metadata": {},
   "outputs": [],
   "source": [
    "import tensorflow as tf\n",
    "import numpy as np\n",
    "import pandas as pd\n",
    "import sklearn"
   ]
  },
  {
   "cell_type": "code",
   "execution_count": 11,
   "id": "e43b9bb0",
   "metadata": {},
   "outputs": [
    {
     "name": "stdout",
     "output_type": "stream",
     "text": [
      "   survived     sex   age  n_siblings_spouses  parch     fare  class     deck  \\\n",
      "0         0    male  22.0                   1      0   7.2500  Third  unknown   \n",
      "1         1  female  38.0                   1      0  71.2833  First        C   \n",
      "2         1  female  26.0                   0      0   7.9250  Third  unknown   \n",
      "3         1  female  35.0                   1      0  53.1000  First        C   \n",
      "4         0    male  28.0                   0      0   8.4583  Third  unknown   \n",
      "\n",
      "   embark_town alone  \n",
      "0  Southampton     n  \n",
      "1    Cherbourg     n  \n",
      "2  Southampton     y  \n",
      "3  Southampton     n  \n",
      "4   Queenstown     y  \n",
      "\n"
     ]
    }
   ],
   "source": [
    "dftrain = pd.read_csv('https://storage.googleapis.com/tf-datasets/titanic/train.csv', ) # training data\n",
    "dfeval = pd.read_csv('https://storage.googleapis.com/tf-datasets/titanic/eval.csv') # testing data\n",
    "\n",
    "print(dftrain.head())\n",
    "print()\n",
    "\n",
    "y_train = dftrain.pop('survived')\n",
    "y_eval = dfeval.pop('survived')"
   ]
  },
  {
   "cell_type": "code",
   "execution_count": 91,
   "id": "57cee825",
   "metadata": {},
   "outputs": [
    {
     "data": {
      "text/plain": [
       "<AxesSubplot:>"
      ]
     },
     "execution_count": 91,
     "metadata": {},
     "output_type": "execute_result"
    },
    {
     "data": {
      "image/png": "[encoded data removed]",
      "text/plain": [
       "<Figure size 432x288 with 1 Axes>"
      ]
     },
     "metadata": {
      "needs_background": "light"
     },
     "output_type": "display_data"
    }
   ],
   "source": [
    "pd.concat([dftrain.sex.value_counts(), pd.concat([dftrain, y_train], axis=1).groupby('sex').survived.value_counts()]).plot(kind='barh')"
   ]
  },
  {
   "cell_type": "code",
   "execution_count": 89,
   "id": "cf20d6c1",
   "metadata": {},
   "outputs": [
    {
     "data": {
      "text/plain": [
       "<AxesSubplot:>"
      ]
     },
     "execution_count": 89,
     "metadata": {},
     "output_type": "execute_result"
    },
    {
     "data": {
      "image/png": "[encoded data removed]",
      "text/plain": [
       "<Figure size 432x288 with 1 Axes>"
      ]
     },
     "metadata": {
      "needs_background": "light"
     },
     "output_type": "display_data"
    }
   ],
   "source": [
    "pd.concat([dftrain['class'].value_counts(), pd.concat([dftrain, y_train], axis=1).groupby('class').survived.value_counts()]).plot(kind='barh')"
   ]
  },
  {
   "cell_type": "code",
   "execution_count": 143,
   "id": "fd83c7c8",
   "metadata": {},
   "outputs": [],
   "source": [
    "numerical_columns = [x for x in dftrain.columns if ('int' in str(dftrain.dtypes[x]) or 'float' in str(dftrain.dtypes[x]))]\n",
    "categorical_columns = [x for x in dftrain.columns if x not in numerical_columns]\n",
    "\n",
    "feature_columns = [tf.feature_column.numeric_column(x, dtype=tf.float32) for x in numerical_columns]\n",
    "feature_columns += [tf.feature_column.categorical_column_with_vocabulary_list(y, dftrain[y].unique()) \n",
    "                    for y in categorical_columns]\n",
    "\n",
    "def make_input_fn(data_df, label_df, num_epochs=10, shuffle=True, batch_size=32):\n",
    "  def input_function():  # inner function, this will be returned\n",
    "    ds = tf.data.Dataset.from_tensor_slices((dict(data_df), label_df))  # create tf.data.Dataset object with data and its label\n",
    "    if shuffle:\n",
    "      ds = ds.shuffle(1000)  # randomize order of data\n",
    "    ds = ds.batch(batch_size).repeat(num_epochs)  # split dataset into batches of 32 and repeat process for number of epochs\n",
    "    return ds  # return a batch of the dataset\n",
    "  return input_function  # return a function object for use"
   ]
  },
  {
   "cell_type": "code",
   "execution_count": 148,
   "id": "25ac2aa9",
   "metadata": {
    "scrolled": true
   },
   "outputs": [
    {
     "name": "stdout",
     "output_type": "stream",
     "text": [
      "INFO:tensorflow:Using default config.\n",
      "WARNING:tensorflow:Using temporary folder as model directory: C:\\Users\\rrohi\\AppData\\Local\\Temp\\tmp5jntxqa0\n",
      "INFO:tensorflow:Using config: {'_model_dir': 'C:\\\\Users\\\\rrohi\\\\AppData\\\\Local\\\\Temp\\\\tmp5jntxqa0', '_tf_random_seed': None, '_save_summary_steps': 100, '_save_checkpoints_steps': None, '_save_checkpoints_secs': 600, '_session_config': allow_soft_placement: true\n",
      "graph_options {\n",
      "  rewrite_options {\n",
      "    meta_optimizer_iterations: ONE\n",
      "  }\n",
      "}\n",
      ", '_keep_checkpoint_max': 5, '_keep_checkpoint_every_n_hours': 10000, '_log_step_count_steps': 100, '_train_distribute': None, '_device_fn': None, '_protocol': None, '_eval_distribute': None, '_experimental_distribute': None, '_experimental_max_worker_delay_secs': None, '_session_creation_timeout_secs': 7200, '_checkpoint_save_graph_def': True, '_service': None, '_cluster_spec': ClusterSpec({}), '_task_type': 'worker', '_task_id': 0, '_global_id_in_cluster': 0, '_master': '', '_evaluation_master': '', '_is_chief': True, '_num_ps_replicas': 0, '_num_worker_replicas': 1}\n",
      "INFO:tensorflow:Calling model_fn.\n",
      "INFO:tensorflow:Done calling model_fn.\n",
      "INFO:tensorflow:Create CheckpointSaverHook.\n",
      "INFO:tensorflow:Graph was finalized.\n",
      "INFO:tensorflow:Running local_init_op.\n",
      "INFO:tensorflow:Done running local_init_op.\n",
      "INFO:tensorflow:Calling checkpoint listeners before saving checkpoint 0...\n",
      "INFO:tensorflow:Saving checkpoints for 0 into C:\\Users\\rrohi\\AppData\\Local\\Temp\\tmp5jntxqa0\\model.ckpt.\n",
      "INFO:tensorflow:Calling checkpoint listeners after saving checkpoint 0...\n",
      "INFO:tensorflow:loss = 0.6931472, step = 0\n",
      "INFO:tensorflow:global_step/sec: 684.781\n",
      "INFO:tensorflow:loss = 0.40448368, step = 100 (0.147 sec)\n",
      "INFO:tensorflow:Calling checkpoint listeners before saving checkpoint 200...\n",
      "INFO:tensorflow:Saving checkpoints for 200 into C:\\Users\\rrohi\\AppData\\Local\\Temp\\tmp5jntxqa0\\model.ckpt.\n",
      "INFO:tensorflow:Calling checkpoint listeners after saving checkpoint 200...\n",
      "INFO:tensorflow:Loss for final step: 0.38782892.\n",
      "INFO:tensorflow:Calling model_fn.\n",
      "INFO:tensorflow:Done calling model_fn.\n",
      "INFO:tensorflow:Starting evaluation at 2022-03-20T01:51:19\n",
      "INFO:tensorflow:Graph was finalized.\n",
      "INFO:tensorflow:Restoring parameters from C:\\Users\\rrohi\\AppData\\Local\\Temp\\tmp5jntxqa0\\model.ckpt-200\n",
      "INFO:tensorflow:Running local_init_op.\n",
      "INFO:tensorflow:Done running local_init_op.\n",
      "INFO:tensorflow:Inference Time : 0.41609s\n",
      "INFO:tensorflow:Finished evaluation at 2022-03-20-01:51:19\n",
      "INFO:tensorflow:Saving dict for global step 200: accuracy = 0.7689394, accuracy_baseline = 0.625, auc = 0.833823, auc_precision_recall = 0.7964378, average_loss = 0.48314166, global_step = 200, label/mean = 0.375, loss = 0.47181714, precision = 0.7209302, prediction/mean = 0.34926015, recall = 0.6262626\n",
      "INFO:tensorflow:Saving 'checkpoint_path' summary for global step 200: C:\\Users\\rrohi\\AppData\\Local\\Temp\\tmp5jntxqa0\\model.ckpt-200\n",
      "\n",
      "\n",
      "0.7689394\n",
      "{'accuracy': 0.7689394, 'accuracy_baseline': 0.625, 'auc': 0.833823, 'auc_precision_recall': 0.7964378, 'average_loss': 0.48314166, 'label/mean': 0.375, 'loss': 0.47181714, 'precision': 0.7209302, 'prediction/mean': 0.34926015, 'recall': 0.6262626, 'global_step': 200}\n"
     ]
    }
   ],
   "source": [
    "train_input_fn = make_input_fn(dftrain, y_train)\n",
    "eval_input_fn = make_input_fn(dfeval, y_eval, num_epochs=1, shuffle=False)\n",
    "\n",
    "linear_estimator = tf.estimator.LinearClassifier(feature_columns = feature_columns) # defining model\n",
    "linear_estimator.train(train_input_fn)  # train\n",
    "result = linear_estimator.evaluate(eval_input_fn)  # get model metrics/stats by testing on tetsing data\n",
    "\n",
    "# clear_output()  # clears consoke output\n",
    "print(); print()\n",
    "print(result['accuracy'])  # the result variable is simply a dict of stats about our model\n",
    "print(result)"
   ]
  },
  {
   "cell_type": "code",
   "execution_count": 165,
   "id": "ddbd5a4b",
   "metadata": {},
   "outputs": [
    {
     "name": "stdout",
     "output_type": "stream",
     "text": [
      "INFO:tensorflow:Calling model_fn.\n",
      "INFO:tensorflow:Done calling model_fn.\n",
      "INFO:tensorflow:Graph was finalized.\n",
      "INFO:tensorflow:Restoring parameters from C:\\Users\\rrohi\\AppData\\Local\\Temp\\tmp5jntxqa0\\model.ckpt-200\n",
      "INFO:tensorflow:Running local_init_op.\n",
      "INFO:tensorflow:Done running local_init_op.\n",
      "sex                          male\n",
      "age                          35.0\n",
      "n_siblings_spouses              0\n",
      "parch                           0\n",
      "fare                         8.05\n",
      "class                       Third\n",
      "deck                      unknown\n",
      "embark_town           Southampton\n",
      "alone                           y\n",
      "Name: 0, dtype: object\n",
      "Chance of survival: 8.246619254350662 %\n",
      "\n",
      "\n",
      "sex                          male\n",
      "age                          54.0\n",
      "n_siblings_spouses              0\n",
      "parch                           0\n",
      "fare                      51.8625\n",
      "class                       First\n",
      "deck                            E\n",
      "embark_town           Southampton\n",
      "alone                           y\n",
      "Name: 1, dtype: object\n",
      "Chance of survival: 25.89212954044342 %\n",
      "\n",
      "\n",
      "sex                        female\n",
      "age                          58.0\n",
      "n_siblings_spouses              0\n",
      "parch                           0\n",
      "fare                        26.55\n",
      "class                       First\n",
      "deck                            C\n",
      "embark_town           Southampton\n",
      "alone                           y\n",
      "Name: 2, dtype: object\n",
      "Chance of survival: 69.94139552116394 %\n",
      "\n",
      "\n",
      "sex                        female\n",
      "age                          55.0\n",
      "n_siblings_spouses              0\n",
      "parch                           0\n",
      "fare                         16.0\n",
      "class                      Second\n",
      "deck                      unknown\n",
      "embark_town           Southampton\n",
      "alone                           y\n",
      "Name: 3, dtype: object\n",
      "Chance of survival: 64.15205001831055 %\n",
      "\n",
      "\n",
      "sex                          male\n",
      "age                          34.0\n",
      "n_siblings_spouses              0\n",
      "parch                           0\n",
      "fare                         13.0\n",
      "class                      Second\n",
      "deck                            D\n",
      "embark_town           Southampton\n",
      "alone                           y\n",
      "Name: 4, dtype: object\n",
      "Chance of survival: 22.979605197906494 %\n",
      "\n",
      "\n",
      "sex                       female\n",
      "age                         15.0\n",
      "n_siblings_spouses             0\n",
      "parch                          0\n",
      "fare                      8.0292\n",
      "class                      Third\n",
      "deck                     unknown\n",
      "embark_town           Queenstown\n",
      "alone                          y\n",
      "Name: 5, dtype: object\n",
      "Chance of survival: 72.53239750862122 %\n",
      "\n",
      "\n",
      "sex                        female\n",
      "age                           8.0\n",
      "n_siblings_spouses              3\n",
      "parch                           1\n",
      "fare                       21.075\n",
      "class                       Third\n",
      "deck                      unknown\n",
      "embark_town           Southampton\n",
      "alone                           n\n",
      "Name: 6, dtype: object\n",
      "Chance of survival: 50.68411827087402 %\n",
      "\n",
      "\n",
      "sex                          male\n",
      "age                          21.0\n",
      "n_siblings_spouses              0\n",
      "parch                           0\n",
      "fare                         8.05\n",
      "class                       Third\n",
      "deck                      unknown\n",
      "embark_town           Southampton\n",
      "alone                           y\n",
      "Name: 7, dtype: object\n",
      "Chance of survival: 10.850121080875397 %\n",
      "\n",
      "\n",
      "sex                        female\n",
      "age                          18.0\n",
      "n_siblings_spouses              2\n",
      "parch                           0\n",
      "fare                         18.0\n",
      "class                       Third\n",
      "deck                      unknown\n",
      "embark_town           Southampton\n",
      "alone                           n\n",
      "Name: 8, dtype: object\n",
      "Chance of survival: 58.554428815841675 %\n",
      "\n",
      "\n",
      "sex                       female\n",
      "age                         19.0\n",
      "n_siblings_spouses             0\n",
      "parch                          0\n",
      "fare                      7.8792\n",
      "class                      Third\n",
      "deck                     unknown\n",
      "embark_town           Queenstown\n",
      "alone                          y\n",
      "Name: 9, dtype: object\n",
      "Chance of survival: 70.78274488449097 %\n",
      "\n",
      "\n"
     ]
    }
   ],
   "source": [
    "prediction1 = list(linear_estimator.predict(eval_input_fn))\n",
    "for x in range(10):\n",
    "    print(dfeval.loc[x])\n",
    "    print('Chance of survival:', prediction1[x]['probabilities'][1]*100, '%')\n",
    "    print(); print()"
   ]
  },
  {
   "cell_type": "code",
   "execution_count": null,
   "id": "e333fb3a",
   "metadata": {},
   "outputs": [],
   "source": []
  }
 ],
 "metadata": {
  "kernelspec": {
   "display_name": "Python 3 (ipykernel)",
   "language": "python",
   "name": "python3"
  },
  "language_info": {
   "codemirror_mode": {
    "name": "ipython",
    "version": 3
   },
   "file_extension": ".py",
   "mimetype": "text/x-python",
   "name": "python",
   "nbconvert_exporter": "python",
   "pygments_lexer": "ipython3",
   "version": "3.10.3"
  }
 },
 "nbformat": 4,
 "nbformat_minor": 5
}
